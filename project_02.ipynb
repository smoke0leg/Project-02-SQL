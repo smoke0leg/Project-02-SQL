{
 "cells": [
  {
   "cell_type": "code",
   "execution_count": 35,
   "metadata": {},
   "outputs": [],
   "source": [
    "import json\n",
    "import pandas as pd\n",
    "import psycopg2\n"
   ]
  },
  {
   "cell_type": "code",
   "execution_count": 36,
   "metadata": {},
   "outputs": [],
   "source": [
    "# Ignoring warnings\n",
    "import warnings\n",
    "warnings.filterwarnings('ignore')"
   ]
  },
  {
   "cell_type": "code",
   "execution_count": 37,
   "metadata": {},
   "outputs": [],
   "source": [
    "# Reading file with connection secret information\n",
    "with open ('data/secret.json', 'r') as f:\n",
    "    secret = json.load(f)"
   ]
  },
  {
   "cell_type": "code",
   "execution_count": 38,
   "metadata": {},
   "outputs": [],
   "source": [
    "# Connection to sql\n",
    "connection = psycopg2.connect(\n",
    "    dbname = secret['DBNAME'],\n",
    "    user = secret['USER'],\n",
    "    password = secret['PASSWORD'],\n",
    "    host = secret['HOST'],\n",
    "    port = secret['PORT']\n",
    ")"
   ]
  },
  {
   "cell_type": "code",
   "execution_count": 39,
   "metadata": {},
   "outputs": [
    {
     "name": "stdout",
     "output_type": "stream",
     "text": [
      "Количество вакансий: 49197\n"
     ]
    }
   ],
   "source": [
    "# Finding quantity of vacancies\n",
    "query_3_1 = f'''select count(*)\n",
    "                from public.vacancies'''\n",
    "df = pd.read_sql_query(query_3_1, connection)\n",
    "total_vacancies = df[\"count\"][0]\n",
    "print(f'Количество вакансий: {df[\"count\"][0]}')"
   ]
  },
  {
   "cell_type": "code",
   "execution_count": 40,
   "metadata": {},
   "outputs": [
    {
     "name": "stdout",
     "output_type": "stream",
     "text": [
      "Количество работодателей: 23501\n"
     ]
    }
   ],
   "source": [
    "# Finding quantity of employers\n",
    "query_3_2 = f'''select count(*)\n",
    "                from public.employers'''\n",
    "df = pd.read_sql_query(query_3_2, connection)\n",
    "print(f'Количество работодателей: {df[\"count\"][0]}')"
   ]
  },
  {
   "cell_type": "code",
   "execution_count": 41,
   "metadata": {},
   "outputs": [
    {
     "name": "stdout",
     "output_type": "stream",
     "text": [
      "Количество регионов: 1362\n"
     ]
    }
   ],
   "source": [
    "# Finding quantity of areas\n",
    "query_3_3 = f'''select count(*)\n",
    "                from public.areas'''\n",
    "df = pd.read_sql_query(query_3_3, connection)\n",
    "print(f'Количество регионов: {df[\"count\"][0]}')"
   ]
  },
  {
   "cell_type": "code",
   "execution_count": 42,
   "metadata": {},
   "outputs": [
    {
     "name": "stdout",
     "output_type": "stream",
     "text": [
      "Количество сфер деятельности: 294\n"
     ]
    }
   ],
   "source": [
    "# Finding quantity of indastries\n",
    "query_3_4 = f'''select count(*)\n",
    "                from public.industries'''\n",
    "df = pd.read_sql_query(query_3_4, connection)\n",
    "print(f'Количество сфер деятельности: {df[\"count\"][0]}')"
   ]
  },
  {
   "cell_type": "markdown",
   "metadata": {},
   "source": [
    "Исходя из проведенного предварительного анализа данных можно сделать следующие выводы:\n",
    "\n",
    "В базе данных содержится информация о 49197 вакансиях от 23501 работодателей, размещенных в 1362 регионах и принадлежащих к 294 сферам деятельности."
   ]
  },
  {
   "cell_type": "code",
   "execution_count": 43,
   "metadata": {},
   "outputs": [
    {
     "data": {
      "text/html": [
       "<div>\n",
       "<style scoped>\n",
       "    .dataframe tbody tr th:only-of-type {\n",
       "        vertical-align: middle;\n",
       "    }\n",
       "\n",
       "    .dataframe tbody tr th {\n",
       "        vertical-align: top;\n",
       "    }\n",
       "\n",
       "    .dataframe thead th {\n",
       "        text-align: right;\n",
       "    }\n",
       "</style>\n",
       "<table border=\"1\" class=\"dataframe\">\n",
       "  <thead>\n",
       "    <tr style=\"text-align: right;\">\n",
       "      <th></th>\n",
       "      <th>name</th>\n",
       "      <th>vacancies_count</th>\n",
       "    </tr>\n",
       "  </thead>\n",
       "  <tbody>\n",
       "    <tr>\n",
       "      <th>0</th>\n",
       "      <td>Москва</td>\n",
       "      <td>5333</td>\n",
       "    </tr>\n",
       "    <tr>\n",
       "      <th>1</th>\n",
       "      <td>Санкт-Петербург</td>\n",
       "      <td>2851</td>\n",
       "    </tr>\n",
       "    <tr>\n",
       "      <th>2</th>\n",
       "      <td>Минск</td>\n",
       "      <td>2112</td>\n",
       "    </tr>\n",
       "    <tr>\n",
       "      <th>3</th>\n",
       "      <td>Новосибирск</td>\n",
       "      <td>2006</td>\n",
       "    </tr>\n",
       "    <tr>\n",
       "      <th>4</th>\n",
       "      <td>Алматы</td>\n",
       "      <td>1892</td>\n",
       "    </tr>\n",
       "  </tbody>\n",
       "</table>\n",
       "</div>"
      ],
      "text/plain": [
       "              name  vacancies_count\n",
       "0           Москва             5333\n",
       "1  Санкт-Петербург             2851\n",
       "2            Минск             2112\n",
       "3      Новосибирск             2006\n",
       "4           Алматы             1892"
      ]
     },
     "metadata": {},
     "output_type": "display_data"
    }
   ],
   "source": [
    "# Finding top 5 cities by quantity of vacancies\n",
    "query_4_1 = f'''select\n",
    "                    a.name,\n",
    "                    count(v.id) as vacancies_count\n",
    "                from public.vacancies as v\n",
    "                    join public.areas as a on a.id = v.area_id\n",
    "                group by a.name\n",
    "                order by vacancies_count desc\n",
    "                limit 5'''\n",
    "df = pd.read_sql_query(query_4_1, connection)\n",
    "display(df)"
   ]
  },
  {
   "cell_type": "code",
   "execution_count": 44,
   "metadata": {},
   "outputs": [
    {
     "name": "stdout",
     "output_type": "stream",
     "text": [
      "Количество вакансий у которых заполнено хотябы одно поле З/П: 24073\n"
     ]
    }
   ],
   "source": [
    "# Finding quantity of vacancies with at least one salary field filled \n",
    "query_4_2 = f'''select count(*)\n",
    "                from public.vacancies\n",
    "                where salary_from is not null OR salary_to is not null'''\n",
    "df = pd.read_sql_query(query_4_2, connection)\n",
    "print(f'Количество вакансий у которых заполнено хотябы одно поле З/П: {df[\"count\"][0]}')"
   ]
  },
  {
   "cell_type": "code",
   "execution_count": 45,
   "metadata": {},
   "outputs": [
    {
     "name": "stdout",
     "output_type": "stream",
     "text": [
      "Нижняя граница: 71065\n",
      "Верхняя граница: 110537\n"
     ]
    }
   ],
   "source": [
    "# Finding mean lower and upper bound of salary\n",
    "query_4_3 = f'''select\n",
    "                    avg(salary_from) AS lower_bound,\n",
    "                    avg(salary_to) AS upper_bound\n",
    "                from public.vacancies'''\n",
    "df = pd.read_sql_query(query_4_3, connection)\n",
    "print(f'Нижняя граница: {round(df[\"lower_bound\"][0])}')\n",
    "print(f'Верхняя граница: {round(df[\"upper_bound\"][0])}')"
   ]
  },
  {
   "cell_type": "code",
   "execution_count": 46,
   "metadata": {},
   "outputs": [
    {
     "data": {
      "text/html": [
       "<div>\n",
       "<style scoped>\n",
       "    .dataframe tbody tr th:only-of-type {\n",
       "        vertical-align: middle;\n",
       "    }\n",
       "\n",
       "    .dataframe tbody tr th {\n",
       "        vertical-align: top;\n",
       "    }\n",
       "\n",
       "    .dataframe thead th {\n",
       "        text-align: right;\n",
       "    }\n",
       "</style>\n",
       "<table border=\"1\" class=\"dataframe\">\n",
       "  <thead>\n",
       "    <tr style=\"text-align: right;\">\n",
       "      <th></th>\n",
       "      <th>schedule</th>\n",
       "      <th>count</th>\n",
       "    </tr>\n",
       "  </thead>\n",
       "  <tbody>\n",
       "    <tr>\n",
       "      <th>0</th>\n",
       "      <td>Полный день</td>\n",
       "      <td>36424</td>\n",
       "    </tr>\n",
       "    <tr>\n",
       "      <th>1</th>\n",
       "      <td>Удаленная работа</td>\n",
       "      <td>9311</td>\n",
       "    </tr>\n",
       "    <tr>\n",
       "      <th>2</th>\n",
       "      <td>Гибкий график</td>\n",
       "      <td>2039</td>\n",
       "    </tr>\n",
       "    <tr>\n",
       "      <th>3</th>\n",
       "      <td>Сменный график</td>\n",
       "      <td>1054</td>\n",
       "    </tr>\n",
       "    <tr>\n",
       "      <th>4</th>\n",
       "      <td>Вахтовый метод</td>\n",
       "      <td>369</td>\n",
       "    </tr>\n",
       "  </tbody>\n",
       "</table>\n",
       "</div>"
      ],
      "text/plain": [
       "           schedule  count\n",
       "0       Полный день  36424\n",
       "1  Удаленная работа   9311\n",
       "2     Гибкий график   2039\n",
       "3    Сменный график   1054\n",
       "4    Вахтовый метод    369"
      ]
     },
     "metadata": {},
     "output_type": "display_data"
    }
   ],
   "source": [
    "# Finding vacancies quantity by type of schedule\n",
    "query_4_4 = f'''select\n",
    "                    schedule,\n",
    "                    count(8)\n",
    "                from public.vacancies\n",
    "                group by schedule\n",
    "                order by count desc'''\n",
    "df = pd.read_sql_query(query_4_4, connection)\n",
    "display(df)"
   ]
  },
  {
   "cell_type": "code",
   "execution_count": 47,
   "metadata": {},
   "outputs": [
    {
     "data": {
      "text/html": [
       "<div>\n",
       "<style scoped>\n",
       "    .dataframe tbody tr th:only-of-type {\n",
       "        vertical-align: middle;\n",
       "    }\n",
       "\n",
       "    .dataframe tbody tr th {\n",
       "        vertical-align: top;\n",
       "    }\n",
       "\n",
       "    .dataframe thead th {\n",
       "        text-align: right;\n",
       "    }\n",
       "</style>\n",
       "<table border=\"1\" class=\"dataframe\">\n",
       "  <thead>\n",
       "    <tr style=\"text-align: right;\">\n",
       "      <th></th>\n",
       "      <th>experience</th>\n",
       "      <th>count</th>\n",
       "    </tr>\n",
       "  </thead>\n",
       "  <tbody>\n",
       "    <tr>\n",
       "      <th>0</th>\n",
       "      <td>Более 6 лет</td>\n",
       "      <td>1337</td>\n",
       "    </tr>\n",
       "    <tr>\n",
       "      <th>1</th>\n",
       "      <td>Нет опыта</td>\n",
       "      <td>7197</td>\n",
       "    </tr>\n",
       "    <tr>\n",
       "      <th>2</th>\n",
       "      <td>От 3 до 6 лет</td>\n",
       "      <td>14511</td>\n",
       "    </tr>\n",
       "    <tr>\n",
       "      <th>3</th>\n",
       "      <td>От 1 года до 3 лет</td>\n",
       "      <td>26152</td>\n",
       "    </tr>\n",
       "  </tbody>\n",
       "</table>\n",
       "</div>"
      ],
      "text/plain": [
       "           experience  count\n",
       "0         Более 6 лет   1337\n",
       "1           Нет опыта   7197\n",
       "2       От 3 до 6 лет  14511\n",
       "3  От 1 года до 3 лет  26152"
      ]
     },
     "metadata": {},
     "output_type": "display_data"
    }
   ],
   "source": [
    "# Finding vacancies quantity by experience\n",
    "query_4_5 =f'''select\n",
    "                    experience,\n",
    "                    count(id)\n",
    "                from public.vacancies\n",
    "                where experience is not null\n",
    "                group by experience\n",
    "                order by count'''\n",
    "df = pd.read_sql_query(query_4_5, connection)\n",
    "display(df)"
   ]
  },
  {
   "cell_type": "markdown",
   "metadata": {},
   "source": [
    "\n",
    "По результатам детального анализа вакансий можно сделать следующие выводы:\n",
    "\n",
    "+ Самое большое количество вакансий находится в Москве (5333), Санкт-Петербурге (2851), Минске (2112), Новосибирске (2006) и Алматы (1892).\n",
    "+ Заполнено поле З/П хотя бы у одного из двух полей верхней или нижней границы в 24073 вакансиях.\n",
    "+ Средняя нижняя граница зарплаты составляет 71065 рублей, а верхняя граница - 110537 рублей.\n",
    "+ Больше всего вакансий с графиком - Полный рабочий день(36424), на втором месте по количеству вакансий оказалась удаленная работа (9311 вакансий).\n",
    "+ Большинство вакансий требуют опыта работы от 1 года до 3 лет (26152 вакансии), за ним идут вакансии требующие от 3 до 6 лет опыта (14511 вакансий), Более 6 лет (1337 вакансий) и Нет опыта (7197 вакансий)."
   ]
  },
  {
   "cell_type": "code",
   "execution_count": 48,
   "metadata": {},
   "outputs": [
    {
     "data": {
      "text/html": [
       "<div>\n",
       "<style scoped>\n",
       "    .dataframe tbody tr th:only-of-type {\n",
       "        vertical-align: middle;\n",
       "    }\n",
       "\n",
       "    .dataframe tbody tr th {\n",
       "        vertical-align: top;\n",
       "    }\n",
       "\n",
       "    .dataframe thead th {\n",
       "        text-align: right;\n",
       "    }\n",
       "</style>\n",
       "<table border=\"1\" class=\"dataframe\">\n",
       "  <thead>\n",
       "    <tr style=\"text-align: right;\">\n",
       "      <th></th>\n",
       "      <th>name</th>\n",
       "      <th>count</th>\n",
       "    </tr>\n",
       "  </thead>\n",
       "  <tbody>\n",
       "    <tr>\n",
       "      <th>0</th>\n",
       "      <td>Яндекс</td>\n",
       "      <td>1933</td>\n",
       "    </tr>\n",
       "    <tr>\n",
       "      <th>1</th>\n",
       "      <td>Ростелеком</td>\n",
       "      <td>491</td>\n",
       "    </tr>\n",
       "    <tr>\n",
       "      <th>2</th>\n",
       "      <td>Тинькофф</td>\n",
       "      <td>444</td>\n",
       "    </tr>\n",
       "    <tr>\n",
       "      <th>3</th>\n",
       "      <td>СБЕР</td>\n",
       "      <td>428</td>\n",
       "    </tr>\n",
       "    <tr>\n",
       "      <th>4</th>\n",
       "      <td>Газпром нефть</td>\n",
       "      <td>331</td>\n",
       "    </tr>\n",
       "  </tbody>\n",
       "</table>\n",
       "</div>"
      ],
      "text/plain": [
       "            name  count\n",
       "0         Яндекс   1933\n",
       "1     Ростелеком    491\n",
       "2       Тинькофф    444\n",
       "3           СБЕР    428\n",
       "4  Газпром нефть    331"
      ]
     },
     "metadata": {},
     "output_type": "display_data"
    }
   ],
   "source": [
    "# Finding top 5 employers\n",
    "query_5_1 = f'''select\n",
    "                    e.name,\n",
    "                    count(v.id)\n",
    "                from public.vacancies as v\n",
    "                    join public.employers as e on e.id = v.employer_id\n",
    "                group by e.name\n",
    "                order by count(v.id) desc\n",
    "                limit 5'''\n",
    "df = pd.read_sql_query(query_5_1, connection)\n",
    "display(df)"
   ]
  },
  {
   "cell_type": "code",
   "execution_count": 49,
   "metadata": {},
   "outputs": [],
   "source": [
    "# Finding top 5 areas by employers qantity with null vacancies\n",
    "query_5_2 = f'''\n",
    "SELECT \n",
    "    DISTINCT a.name,\n",
    "    COUNT(DISTINCT e.id) AS employers_count,\n",
    "    vac.vacancies_count\n",
    "FROM public.areas AS a\n",
    "LEFT JOIN public.employers AS e ON e.area = a.id\n",
    "FULL JOIN (\n",
    "    SELECT \n",
    "        a.name,\n",
    "        COUNT(v.id) AS vacancies_count\n",
    "    FROM public.areas AS a\n",
    "    JOIN public.vacancies AS v ON v.area_id = a.id\n",
    "    GROUP BY a.name\n",
    ") AS vac ON a.name = vac.name\n",
    "GROUP BY a.name, vac.vacancies_count\n",
    "HAVING COUNT(vac.vacancies_count) = 0\n",
    "ORDER BY employers_count DESC\n",
    "LIMIT 5'''\n",
    "df = pd.read_sql_query(query_5_2, connection)\n",
    "display(df)"
   ]
  },
  {
   "cell_type": "code",
   "execution_count": null,
   "metadata": {},
   "outputs": [
    {
     "data": {
      "text/html": [
       "<div>\n",
       "<style scoped>\n",
       "    .dataframe tbody tr th:only-of-type {\n",
       "        vertical-align: middle;\n",
       "    }\n",
       "\n",
       "    .dataframe tbody tr th {\n",
       "        vertical-align: top;\n",
       "    }\n",
       "\n",
       "    .dataframe thead th {\n",
       "        text-align: right;\n",
       "    }\n",
       "</style>\n",
       "<table border=\"1\" class=\"dataframe\">\n",
       "  <thead>\n",
       "    <tr style=\"text-align: right;\">\n",
       "      <th></th>\n",
       "      <th>name</th>\n",
       "      <th>region_count</th>\n",
       "    </tr>\n",
       "  </thead>\n",
       "  <tbody>\n",
       "    <tr>\n",
       "      <th>0</th>\n",
       "      <td>Яндекс</td>\n",
       "      <td>181</td>\n",
       "    </tr>\n",
       "    <tr>\n",
       "      <th>1</th>\n",
       "      <td>Ростелеком</td>\n",
       "      <td>152</td>\n",
       "    </tr>\n",
       "    <tr>\n",
       "      <th>2</th>\n",
       "      <td>Тинькофф</td>\n",
       "      <td>43</td>\n",
       "    </tr>\n",
       "    <tr>\n",
       "      <th>3</th>\n",
       "      <td>СБЕР</td>\n",
       "      <td>24</td>\n",
       "    </tr>\n",
       "    <tr>\n",
       "      <th>4</th>\n",
       "      <td>Газпром нефть</td>\n",
       "      <td>24</td>\n",
       "    </tr>\n",
       "    <tr>\n",
       "      <th>...</th>\n",
       "      <td>...</td>\n",
       "      <td>...</td>\n",
       "    </tr>\n",
       "    <tr>\n",
       "      <th>14761</th>\n",
       "      <td>ПСБ Инновации и Инвестиции</td>\n",
       "      <td>1</td>\n",
       "    </tr>\n",
       "    <tr>\n",
       "      <th>14762</th>\n",
       "      <td>ПСЗ Янтарь</td>\n",
       "      <td>1</td>\n",
       "    </tr>\n",
       "    <tr>\n",
       "      <th>14763</th>\n",
       "      <td>ПСК</td>\n",
       "      <td>1</td>\n",
       "    </tr>\n",
       "    <tr>\n",
       "      <th>14764</th>\n",
       "      <td>Псковский завод механических приводов</td>\n",
       "      <td>1</td>\n",
       "    </tr>\n",
       "    <tr>\n",
       "      <th>14765</th>\n",
       "      <td>ПСК ТатЭнергоСтрой</td>\n",
       "      <td>1</td>\n",
       "    </tr>\n",
       "  </tbody>\n",
       "</table>\n",
       "<p>14766 rows × 2 columns</p>\n",
       "</div>"
      ],
      "text/plain": [
       "                                        name  region_count\n",
       "0                                     Яндекс           181\n",
       "1                                 Ростелеком           152\n",
       "2                                   Тинькофф            43\n",
       "3                                       СБЕР            24\n",
       "4                              Газпром нефть            24\n",
       "...                                      ...           ...\n",
       "14761             ПСБ Инновации и Инвестиции             1\n",
       "14762                             ПСЗ Янтарь             1\n",
       "14763                                    ПСК             1\n",
       "14764  Псковский завод механических приводов             1\n",
       "14765                     ПСК ТатЭнергоСтрой             1\n",
       "\n",
       "[14766 rows x 2 columns]"
      ]
     },
     "metadata": {},
     "output_type": "display_data"
    }
   ],
   "source": [
    "# Counting quantity recruiting regions for each company\n",
    "query_5_3 = f'''\n",
    "SELECT \n",
    "    e.name,\n",
    "    count(distinct v.area_id) as region_count\n",
    "FROM public.vacancies AS v\n",
    "    JOIN public.employers AS e ON e.id = v.employer_id\n",
    "GROUP BY e.name\n",
    "ORDER BY count(v.area_id) DESC\n",
    "'''\n",
    "df = pd.read_sql_query(query_5_3, connection)\n",
    "display(df)"
   ]
  },
  {
   "cell_type": "code",
   "execution_count": null,
   "metadata": {},
   "outputs": [
    {
     "name": "stdout",
     "output_type": "stream",
     "text": [
      "Количество работадателей у которых не указана сфера деятельности: 8419\n"
     ]
    }
   ],
   "source": [
    "# Finding quantity of employers with null in industry type\n",
    "query_5_4 = '''\n",
    "SELECT count(*)\n",
    "FROM public.employers AS e\n",
    "    LEFT JOIN public.employers_industries AS ei ON ei.employer_id = e.id\n",
    "WHERE industry_id is null'''\n",
    "df = pd.read_sql_query(query_5_4, connection)\n",
    "print(f'Количество работадателей у которых не указана сфера деятельности: {df[\"count\"][0]}')"
   ]
  },
  {
   "cell_type": "code",
   "execution_count": null,
   "metadata": {},
   "outputs": [
    {
     "name": "stdout",
     "output_type": "stream",
     "text": [
      "Название компании с 4 меня сферами деятельности на третьем месте в алфавитном списке: 2ГИС\n"
     ]
    }
   ],
   "source": [
    "# Finding employer name with four industry types in third place in the alphabetical list                  \n",
    "query_5_5 = '''select\n",
    "                    e.name\n",
    "                from public.employers as e\n",
    "                    join public.employers_industries as ei on e.id = ei.employer_id\n",
    "                    group by e.name\n",
    "                    having count(ei.industry_id) = 4\n",
    "                    order by name\n",
    "                    OFFSET 2\n",
    "                    LIMIT 1\n",
    "                    '''\n",
    "df = pd.read_sql_query(query_5_5, connection)\n",
    "print(f'Название компании с 4 меня сферами деятельности на третьем месте в алфавитном списке: {df[\"name\"][0]}')"
   ]
  },
  {
   "cell_type": "code",
   "execution_count": null,
   "metadata": {},
   "outputs": [
    {
     "name": "stdout",
     "output_type": "stream",
     "text": [
      "Компаний разработчиков ПО: 3553\n"
     ]
    }
   ],
   "source": [
    "# Finding quantity of software developers company\n",
    "query_5_6 = '''\n",
    "SELECT count(ei.employer_id)\n",
    "FROM public.employers_industries AS ei\n",
    "    JOIN public.industries AS i ON i.id = ei.industry_id\n",
    "WHERE i.name = 'Разработка программного обеспечения'\n",
    "GROUP BY i.name\n",
    "'''\n",
    "df = pd.read_sql_query(query_5_6, connection)\n",
    "print(f'Компаний разработчиков ПО: {df[\"count\"][0]}')"
   ]
  },
  {
   "cell_type": "code",
   "execution_count": null,
   "metadata": {},
   "outputs": [],
   "source": [
    "# Geting million_cities tuple from wikipedia\n",
    "million_cities_link = 'https://ru.wikipedia.org/wiki/%D0%93%D0%BE%D1%80%D0%BE%D0%B4%D0%B0-%D0%BC%D0%B8%D0%BB%D0%BB%D0%B8%D0%BE%D0%BD%D0%B5%D1%80%D1%8B_%D0%A0%D0%BE%D1%81%D1%81%D0%B8%D0%B8'\n",
    "million_cities = tuple(pd.read_html(million_cities_link)[1]['Город'])\n",
    "#  = tuple(table['Город'])"
   ]
  },
  {
   "cell_type": "code",
   "execution_count": null,
   "metadata": {},
   "outputs": [
    {
     "data": {
      "text/html": [
       "<div>\n",
       "<style scoped>\n",
       "    .dataframe tbody tr th:only-of-type {\n",
       "        vertical-align: middle;\n",
       "    }\n",
       "\n",
       "    .dataframe tbody tr th {\n",
       "        vertical-align: top;\n",
       "    }\n",
       "\n",
       "    .dataframe thead th {\n",
       "        text-align: right;\n",
       "    }\n",
       "</style>\n",
       "<table border=\"1\" class=\"dataframe\">\n",
       "  <thead>\n",
       "    <tr style=\"text-align: right;\">\n",
       "      <th></th>\n",
       "      <th>name</th>\n",
       "      <th>count</th>\n",
       "    </tr>\n",
       "  </thead>\n",
       "  <tbody>\n",
       "    <tr>\n",
       "      <th>0</th>\n",
       "      <td>Москва</td>\n",
       "      <td>54.0</td>\n",
       "    </tr>\n",
       "    <tr>\n",
       "      <th>1</th>\n",
       "      <td>Санкт-Петербург</td>\n",
       "      <td>42.0</td>\n",
       "    </tr>\n",
       "    <tr>\n",
       "      <th>2</th>\n",
       "      <td>Екатеринбург</td>\n",
       "      <td>39.0</td>\n",
       "    </tr>\n",
       "    <tr>\n",
       "      <th>3</th>\n",
       "      <td>Нижний Новгород</td>\n",
       "      <td>36.0</td>\n",
       "    </tr>\n",
       "    <tr>\n",
       "      <th>4</th>\n",
       "      <td>Новосибирск</td>\n",
       "      <td>35.0</td>\n",
       "    </tr>\n",
       "    <tr>\n",
       "      <th>5</th>\n",
       "      <td>Воронеж</td>\n",
       "      <td>32.0</td>\n",
       "    </tr>\n",
       "    <tr>\n",
       "      <th>6</th>\n",
       "      <td>Краснодар</td>\n",
       "      <td>30.0</td>\n",
       "    </tr>\n",
       "    <tr>\n",
       "      <th>7</th>\n",
       "      <td>Самара</td>\n",
       "      <td>26.0</td>\n",
       "    </tr>\n",
       "    <tr>\n",
       "      <th>8</th>\n",
       "      <td>Уфа</td>\n",
       "      <td>26.0</td>\n",
       "    </tr>\n",
       "    <tr>\n",
       "      <th>9</th>\n",
       "      <td>Казань</td>\n",
       "      <td>25.0</td>\n",
       "    </tr>\n",
       "    <tr>\n",
       "      <th>10</th>\n",
       "      <td>Пермь</td>\n",
       "      <td>25.0</td>\n",
       "    </tr>\n",
       "    <tr>\n",
       "      <th>11</th>\n",
       "      <td>Ростов-на-Дону</td>\n",
       "      <td>25.0</td>\n",
       "    </tr>\n",
       "    <tr>\n",
       "      <th>12</th>\n",
       "      <td>Волгоград</td>\n",
       "      <td>24.0</td>\n",
       "    </tr>\n",
       "    <tr>\n",
       "      <th>13</th>\n",
       "      <td>Красноярск</td>\n",
       "      <td>23.0</td>\n",
       "    </tr>\n",
       "    <tr>\n",
       "      <th>14</th>\n",
       "      <td>Челябинск</td>\n",
       "      <td>22.0</td>\n",
       "    </tr>\n",
       "    <tr>\n",
       "      <th>15</th>\n",
       "      <td>Омск</td>\n",
       "      <td>21.0</td>\n",
       "    </tr>\n",
       "    <tr>\n",
       "      <th>16</th>\n",
       "      <td>Total</td>\n",
       "      <td>485.0</td>\n",
       "    </tr>\n",
       "  </tbody>\n",
       "</table>\n",
       "</div>"
      ],
      "text/plain": [
       "               name  count\n",
       "0            Москва   54.0\n",
       "1   Санкт-Петербург   42.0\n",
       "2      Екатеринбург   39.0\n",
       "3   Нижний Новгород   36.0\n",
       "4       Новосибирск   35.0\n",
       "5           Воронеж   32.0\n",
       "6         Краснодар   30.0\n",
       "7            Самара   26.0\n",
       "8               Уфа   26.0\n",
       "9            Казань   25.0\n",
       "10            Пермь   25.0\n",
       "11   Ростов-на-Дону   25.0\n",
       "12        Волгоград   24.0\n",
       "13       Красноярск   23.0\n",
       "14        Челябинск   22.0\n",
       "15             Омск   21.0\n",
       "16            Total  485.0"
      ]
     },
     "metadata": {},
     "output_type": "display_data"
    }
   ],
   "source": [
    "# Finding quantity of Yandex vacancies in million cities\n",
    "query_5_7 = f'''\n",
    "(SELECT \n",
    "    a.name,\n",
    "    count(v.id)\n",
    "FROM public.vacancies AS v\n",
    "    JOIN public.areas AS a ON a.id = v.area_id\n",
    "    JOIN public.employers AS e ON e.id = v.employer_id\n",
    "WHERE e.name = 'Яндекс' AND a.name IN {million_cities}\n",
    "GROUP BY a.name\n",
    "ORDER BY count(v.id)DESC)\n",
    "\n",
    "UNION ALL\n",
    "SELECT\n",
    "    'Total',\n",
    "    SUM(cnt)\n",
    "FROM (\n",
    "    SELECT \n",
    "        count(v.id) AS cnt\n",
    "    FROM \n",
    "        public.vacancies AS v\n",
    "        JOIN public.areas AS a ON a.id = v.area_id\n",
    "        JOIN public.employers AS e ON e.id = v.employer_id\n",
    "    WHERE \n",
    "        e.name = 'Яндекс' AND \n",
    "        a.name IN {million_cities}\n",
    "    GROUP BY a.name\n",
    ") AS t\n",
    "\n",
    "'''\n",
    "df = pd.read_sql_query(query_5_7, connection)\n",
    "display(df)"
   ]
  },
  {
   "attachments": {},
   "cell_type": "markdown",
   "metadata": {},
   "source": [
    "В результате анализа работадателей были сделаны следующие выводы:\n",
    "\n",
    "+ Топ-5 работодателей по количеству вакансий: Яндекс (1933), Ростелеком (491), Тинькофф (444), СБЕР (428) и Газпром нефть (331).\n",
    "+ Топ-5 регионов по количеству работодателей с нулевым количеством вакансий: Россия (410), Казахстан (207), Московская область (75), Краснодарский край (19) и Беларусь (18).\n",
    "+ Топ 5 количества регионов, в которых каждая компания ищет сотрудников: Яндекс (181), Ростелеком (152), Тинькофф (43), СБЕР (24) и Газпром нефть (24).\n",
    "+ Количество работодателей, у которых не указана сфера деятельности: 8419.\n",
    "+ Компания с 4 сферами деятельности на третьем месте в алфавитном списке: 2ГИС.\n",
    "+ Количество компаний, занимающихся разработкой программного обеспечения: 3553.\n",
    "+ Компания Яндекс разместила 485 вакансий в городах миллионниках, больше всего в Москве(54), Санкт-Петербурге(42) и Екатеринбурге"
   ]
  },
  {
   "cell_type": "code",
   "execution_count": null,
   "metadata": {},
   "outputs": [
    {
     "name": "stdout",
     "output_type": "stream",
     "text": [
      "Колличество вакансий имеющих отношение к данным: 1771\n"
     ]
    }
   ],
   "source": [
    "# Finding quntity of vacancies relevant to data\n",
    "query_6_1 = '''\n",
    "SELECT count(*)\n",
    "FROM public.vacancies\n",
    "WHERE LOWER(name) LIKE '%data%' OR LOWER(name) LIKE '%данн%'\n",
    "'''\n",
    "df = pd.read_sql_query(query_6_1, connection)\n",
    "print(f'Колличество вакансий имеющих отношение к данным: {df[\"count\"][0]}')\n",
    "data_vacancies = df[\"count\"][0]"
   ]
  },
  {
   "cell_type": "code",
   "execution_count": null,
   "metadata": {},
   "outputs": [
    {
     "name": "stdout",
     "output_type": "stream",
     "text": [
      "Колличество вакансий для начинающего дата-сайентиста: 51\n"
     ]
    }
   ],
   "source": [
    "# Finding vacancies quantity for beginer data scientist\n",
    "query_6_2 = '''\n",
    "SELECT count (*)\n",
    "FROM public.vacancies\n",
    "WHERE \n",
    "    (name ILIKE '%data scientist%' OR \n",
    "     name ILIKE '%data science%' OR \n",
    "     name ILIKE '%исследователь данных%' OR \n",
    "     (name LIKE '%ML%' AND name NOT LIKE '%HTML%') OR \n",
    "     name ILIKE '%machine learning%' OR \n",
    "     name ILIKE '%машинн%обучен%') \n",
    "    AND \n",
    "    (name ILIKE '%junior%' OR \n",
    "     experience = 'Нет опыта' OR \n",
    "     employment = 'Стажировка')\n",
    "'''\n",
    "df = pd.read_sql_query(query_6_2, connection)\n",
    "print(f'Колличество вакансий для начинающего дата-сайентиста: {df[\"count\"][0]}')\n",
    "junior_ds_vac = df[\"count\"][0]"
   ]
  },
  {
   "cell_type": "code",
   "execution_count": null,
   "metadata": {},
   "outputs": [
    {
     "name": "stdout",
     "output_type": "stream",
     "text": [
      "Колличество вакансий для дата-сайентиста с ключевыми навыками SQL или postgres: 201\n"
     ]
    }
   ],
   "source": [
    "# Finding DS vacancies quantity with SQL and Postgre SQL key skills\n",
    "query_6_3 = '''\n",
    "SELECT count(*)\n",
    "FROM public.vacancies\n",
    "WHERE \n",
    "    (name ILIKE '%data scientist%' OR \n",
    "     name ILIKE '%data science%' OR \n",
    "     name ILIKE '%исследователь данных%' OR \n",
    "     (name LIKE '%ML%' AND name NOT LIKE '%HTML%') OR \n",
    "     name ILIKE '%machine learning%' OR \n",
    "     name ILIKE '%машинн%обучен%') \n",
    "    AND \n",
    "    (key_skills ILIKE '%sql%' OR \n",
    "     key_skills ILIKE 'postgres')\n",
    "'''\n",
    "df = pd.read_sql_query(query_6_3, connection)\n",
    "print(f'Колличество вакансий для дата-сайентиста с ключевыми навыками SQL или postgres: {df[\"count\"][0]}')"
   ]
  },
  {
   "cell_type": "code",
   "execution_count": null,
   "metadata": {},
   "outputs": [
    {
     "name": "stdout",
     "output_type": "stream",
     "text": [
      "Колличество вакансий для дата-сайентиста с ключевым навыком Python: 351\n"
     ]
    }
   ],
   "source": [
    "# # Finding DS vacancies quantity with Python key skill\n",
    "query_6_4 = '''\n",
    "SELECT count(*)\n",
    "FROM public.vacancies\n",
    "WHERE \n",
    "    (name ILIKE '%data scientist%' OR \n",
    "     name ILIKE '%data science%' OR \n",
    "     name ILIKE '%исследователь данных%' OR \n",
    "     (name LIKE '%ML%' AND name NOT LIKE '%HTML%') OR \n",
    "     name ILIKE '%machine learning%' OR \n",
    "     name ILIKE '%машинн%обучен%') \n",
    "    AND \n",
    "    key_skills ILIKE '%python%'\n",
    "'''\n",
    "df = pd.read_sql_query(query_6_4, connection)\n",
    "print(f'Колличество вакансий для дата-сайентиста с ключевым навыком Python: {df[\"count\"][0]}')"
   ]
  },
  {
   "cell_type": "code",
   "execution_count": null,
   "metadata": {},
   "outputs": [
    {
     "name": "stdout",
     "output_type": "stream",
     "text": [
      "Среднее количество ключевых навыков для DS вакансий: 6.41\n"
     ]
    }
   ],
   "source": [
    "# Finding mean key skills quantity for DS vacancies\n",
    "query_6_5 = '''\n",
    "SELECT ROUND(AVG(LENGTH(key_skills) - LENGTH(replace(key_skills, CHR(9), '')) + 1),2) as avg\n",
    "FROM public.vacancies\n",
    "WHERE \n",
    "    (name ILIKE '%data scientist%' OR \n",
    "     name ILIKE '%data science%' OR \n",
    "     name ILIKE '%исследователь данных%' OR \n",
    "     (name LIKE '%ML%' AND name NOT LIKE '%HTML%') OR \n",
    "     name ILIKE '%machine learning%' OR \n",
    "     name ILIKE '%машинн%обучен%') \n",
    "    AND \n",
    "    key_skills IS NOT NULL\n",
    "'''\n",
    "df = pd.read_sql_query(query_6_5, connection)\n",
    "print(f'Среднее количество ключевых навыков для DS вакансий: {df[\"avg\"][0]}')"
   ]
  },
  {
   "cell_type": "code",
   "execution_count": null,
   "metadata": {},
   "outputs": [
    {
     "data": {
      "text/html": [
       "<div>\n",
       "<style scoped>\n",
       "    .dataframe tbody tr th:only-of-type {\n",
       "        vertical-align: middle;\n",
       "    }\n",
       "\n",
       "    .dataframe tbody tr th {\n",
       "        vertical-align: top;\n",
       "    }\n",
       "\n",
       "    .dataframe thead th {\n",
       "        text-align: right;\n",
       "    }\n",
       "</style>\n",
       "<table border=\"1\" class=\"dataframe\">\n",
       "  <thead>\n",
       "    <tr style=\"text-align: right;\">\n",
       "      <th></th>\n",
       "      <th>experience</th>\n",
       "      <th>avg_salary</th>\n",
       "    </tr>\n",
       "  </thead>\n",
       "  <tbody>\n",
       "    <tr>\n",
       "      <th>0</th>\n",
       "      <td>Нет опыта</td>\n",
       "      <td>74643.0</td>\n",
       "    </tr>\n",
       "    <tr>\n",
       "      <th>1</th>\n",
       "      <td>От 1 года до 3 лет</td>\n",
       "      <td>139675.0</td>\n",
       "    </tr>\n",
       "    <tr>\n",
       "      <th>2</th>\n",
       "      <td>От 3 до 6 лет</td>\n",
       "      <td>243115.0</td>\n",
       "    </tr>\n",
       "  </tbody>\n",
       "</table>\n",
       "</div>"
      ],
      "text/plain": [
       "           experience  avg_salary\n",
       "0           Нет опыта     74643.0\n",
       "1  От 1 года до 3 лет    139675.0\n",
       "2       От 3 до 6 лет    243115.0"
      ]
     },
     "metadata": {},
     "output_type": "display_data"
    }
   ],
   "source": [
    "# Finding mean salary dor DS vacancies\n",
    "query_6_6 = '''\n",
    "SELECT experience,\n",
    "       ROUND(AVG(CASE\n",
    "             WHEN salary_to IS NOT NULL AND salary_from IS NOT NULL THEN (salary_to + salary_from)/2\n",
    "             WHEN salary_to IS NULL THEN salary_from\n",
    "             ELSE salary_to\n",
    "           END)) as avg_salary\n",
    "FROM public.vacancies\n",
    "WHERE \n",
    "    (name ILIKE '%data scientist%' OR \n",
    "     name ILIKE '%data science%' OR \n",
    "     name ILIKE '%исследователь данных%' OR \n",
    "     (name LIKE '%ML%' AND name NOT LIKE '%HTML%') OR \n",
    "     name ILIKE '%machine learning%' OR \n",
    "     name ILIKE '%машинн%обучен%') \n",
    "    AND (salary_from IS NOT NULL OR salary_to IS NOT NULL)\n",
    "GROUP BY experience\n",
    "'''\n",
    "ds_mean_salary_df = pd.read_sql_query(query_6_6, connection)\n",
    "display(ds_mean_salary_df)"
   ]
  },
  {
   "attachments": {},
   "cell_type": "markdown",
   "metadata": {},
   "source": [
    "\n",
    "В результате предметного анализа вакансий в базе данных были получены следующие выводы:\n",
    "\n",
    "+ В базе данных имеется 1771 вакансия, имеющая отношение к данным.\n",
    "+ Для начинающих дата-сайентистов в базе данных имеется всего 51 вакансия.\n",
    "+ Для дата-сайентистов с ключевыми навыками SQL или Postgres имеется 201 вакансия.\n",
    "+ Для дата-сайентистов с ключевым навыком Python имеется 351 вакансия.\n",
    "+ Среднее количество ключевых навыков для вакансий в сфере Data Science составляет 6.41.\n",
    "+ Средняя зарплата для вакансий в сфере Data Science зависит от опыта работы\n",
    "    1. Без опыта работы: 74643 руб\n",
    "    2. С опытом от года до 3х лет 139675 руб\n",
    "    3. С опытом работы от 3х до 6 лет 243115 руб"
   ]
  },
  {
   "cell_type": "code",
   "execution_count": null,
   "metadata": {},
   "outputs": [
    {
     "data": {
      "text/html": [
       "<div>\n",
       "<style scoped>\n",
       "    .dataframe tbody tr th:only-of-type {\n",
       "        vertical-align: middle;\n",
       "    }\n",
       "\n",
       "    .dataframe tbody tr th {\n",
       "        vertical-align: top;\n",
       "    }\n",
       "\n",
       "    .dataframe thead th {\n",
       "        text-align: right;\n",
       "    }\n",
       "</style>\n",
       "<table border=\"1\" class=\"dataframe\">\n",
       "  <thead>\n",
       "    <tr style=\"text-align: right;\">\n",
       "      <th></th>\n",
       "      <th>employer_name</th>\n",
       "      <th>count</th>\n",
       "    </tr>\n",
       "  </thead>\n",
       "  <tbody>\n",
       "    <tr>\n",
       "      <th>0</th>\n",
       "      <td>СБЕР</td>\n",
       "      <td>37</td>\n",
       "    </tr>\n",
       "    <tr>\n",
       "      <th>1</th>\n",
       "      <td>Bell Integrator</td>\n",
       "      <td>25</td>\n",
       "    </tr>\n",
       "    <tr>\n",
       "      <th>2</th>\n",
       "      <td>Банк ВТБ (ПАО)</td>\n",
       "      <td>18</td>\n",
       "    </tr>\n",
       "    <tr>\n",
       "      <th>3</th>\n",
       "      <td>VK</td>\n",
       "      <td>15</td>\n",
       "    </tr>\n",
       "    <tr>\n",
       "      <th>4</th>\n",
       "      <td>Positive Technologies</td>\n",
       "      <td>11</td>\n",
       "    </tr>\n",
       "  </tbody>\n",
       "</table>\n",
       "</div>"
      ],
      "text/plain": [
       "           employer_name  count\n",
       "0                   СБЕР     37\n",
       "1        Bell Integrator     25\n",
       "2         Банк ВТБ (ПАО)     18\n",
       "3                     VK     15\n",
       "4  Positive Technologies     11"
      ]
     },
     "metadata": {},
     "output_type": "display_data"
    }
   ],
   "source": [
    "# Finding top 5 employers for DS vacancies\n",
    "query_7_1 = '''\n",
    "SELECT \n",
    "    e.name AS employer_name,\n",
    "    count(v.id)\n",
    "    \n",
    "FROM public.vacancies AS v\n",
    "    JOIN public.employers AS e ON v.employer_id = e.id\n",
    "WHERE \n",
    "    (v.name ILIKE '%data scientist%' OR \n",
    "     v.name ILIKE '%data science%' OR \n",
    "     v.name ILIKE '%исследователь данных%' OR \n",
    "     (v.name LIKE '%ML%' AND v.name NOT LIKE '%HTML%') OR \n",
    "     v.name ILIKE '%machine learning%' OR \n",
    "     v.name ILIKE '%машинн%обучен%')\n",
    "GROUP BY e.name\n",
    "ORDER BY count(v.id) DESC\n",
    "LIMIT 5\n",
    "'''\n",
    "df = pd.read_sql_query(query_7_1, connection)\n",
    "display(df)"
   ]
  },
  {
   "cell_type": "code",
   "execution_count": null,
   "metadata": {},
   "outputs": [
    {
     "data": {
      "text/html": [
       "<div>\n",
       "<style scoped>\n",
       "    .dataframe tbody tr th:only-of-type {\n",
       "        vertical-align: middle;\n",
       "    }\n",
       "\n",
       "    .dataframe tbody tr th {\n",
       "        vertical-align: top;\n",
       "    }\n",
       "\n",
       "    .dataframe thead th {\n",
       "        text-align: right;\n",
       "    }\n",
       "</style>\n",
       "<table border=\"1\" class=\"dataframe\">\n",
       "  <thead>\n",
       "    <tr style=\"text-align: right;\">\n",
       "      <th></th>\n",
       "      <th>industry_name</th>\n",
       "      <th>count</th>\n",
       "    </tr>\n",
       "  </thead>\n",
       "  <tbody>\n",
       "    <tr>\n",
       "      <th>0</th>\n",
       "      <td>Разработка программного обеспечения</td>\n",
       "      <td>148</td>\n",
       "    </tr>\n",
       "    <tr>\n",
       "      <th>1</th>\n",
       "      <td>Системная интеграция,  автоматизации технологи...</td>\n",
       "      <td>139</td>\n",
       "    </tr>\n",
       "    <tr>\n",
       "      <th>2</th>\n",
       "      <td>Банк</td>\n",
       "      <td>92</td>\n",
       "    </tr>\n",
       "    <tr>\n",
       "      <th>3</th>\n",
       "      <td>Интернет-компания (поисковики, платежные систе...</td>\n",
       "      <td>79</td>\n",
       "    </tr>\n",
       "    <tr>\n",
       "      <th>4</th>\n",
       "      <td>Мобильная связь</td>\n",
       "      <td>23</td>\n",
       "    </tr>\n",
       "  </tbody>\n",
       "</table>\n",
       "</div>"
      ],
      "text/plain": [
       "                                       industry_name  count\n",
       "0                Разработка программного обеспечения    148\n",
       "1  Системная интеграция,  автоматизации технологи...    139\n",
       "2                                               Банк     92\n",
       "3  Интернет-компания (поисковики, платежные систе...     79\n",
       "4                                    Мобильная связь     23"
      ]
     },
     "metadata": {},
     "output_type": "display_data"
    }
   ],
   "source": [
    "# Finding DS vacancies quantity by industries type\n",
    "query_7_2 = '''\n",
    "SELECT \n",
    "    i.name AS industry_name,\n",
    "    count(v.id)\n",
    "    \n",
    "FROM public.vacancies AS v\n",
    "    JOIN public.employers_industries AS ei ON v.employer_id = ei.employer_id\n",
    "    JOIN public.industries AS i ON ei.industry_id = i.id\n",
    "WHERE \n",
    "    (v.name ILIKE '%data scientist%' OR \n",
    "     v.name ILIKE '%data science%' OR \n",
    "     v.name ILIKE '%исследователь данных%' OR \n",
    "     (v.name LIKE '%ML%' AND v.name NOT LIKE '%HTML%') OR \n",
    "     v.name ILIKE '%machine learning%' OR \n",
    "     v.name ILIKE '%машинн%обучен%')\n",
    "GROUP BY i.name\n",
    "ORDER BY count(v.id) DESC\n",
    "LIMIT 5\n",
    "'''\n",
    "df = pd.read_sql_query(query_7_2, connection)\n",
    "display(df)"
   ]
  },
  {
   "cell_type": "code",
   "execution_count": null,
   "metadata": {},
   "outputs": [
    {
     "name": "stdout",
     "output_type": "stream",
     "text": [
      "Количество вакансий для дата-сайентистов: 480\n"
     ]
    }
   ],
   "source": [
    "# Finding DS vacancies quantity by employment type\n",
    "query_7_3 = '''\n",
    "SELECT \n",
    "    count(v.id)\n",
    "    \n",
    "FROM public.vacancies AS v\n",
    "WHERE \n",
    "    (v.name ILIKE '%data scientist%' OR \n",
    "     v.name ILIKE '%data science%' OR \n",
    "     v.name ILIKE '%исследователь данных%' OR \n",
    "     (v.name LIKE '%ML%' AND v.name NOT LIKE '%HTML%') OR \n",
    "     v.name ILIKE '%machine learning%' OR \n",
    "     v.name ILIKE '%машинн%обучен%')\n",
    "ORDER BY count(v.id) DESC\n",
    "'''\n",
    "df = pd.read_sql_query(query_7_3, connection)\n",
    "print(f'Количество вакансий для дата-сайентистов: {df[\"count\"][0]}')\n",
    "ds_vac_quantity = df[\"count\"][0]"
   ]
  },
  {
   "cell_type": "code",
   "execution_count": null,
   "metadata": {},
   "outputs": [
    {
     "data": {
      "text/html": [
       "<div>\n",
       "<style scoped>\n",
       "    .dataframe tbody tr th:only-of-type {\n",
       "        vertical-align: middle;\n",
       "    }\n",
       "\n",
       "    .dataframe tbody tr th {\n",
       "        vertical-align: top;\n",
       "    }\n",
       "\n",
       "    .dataframe thead th {\n",
       "        text-align: right;\n",
       "    }\n",
       "</style>\n",
       "<table border=\"1\" class=\"dataframe\">\n",
       "  <thead>\n",
       "    <tr style=\"text-align: right;\">\n",
       "      <th></th>\n",
       "      <th>employmet_type</th>\n",
       "      <th>count</th>\n",
       "    </tr>\n",
       "  </thead>\n",
       "  <tbody>\n",
       "    <tr>\n",
       "      <th>0</th>\n",
       "      <td>Полная занятость</td>\n",
       "      <td>466</td>\n",
       "    </tr>\n",
       "    <tr>\n",
       "      <th>1</th>\n",
       "      <td>Частичная занятость</td>\n",
       "      <td>8</td>\n",
       "    </tr>\n",
       "    <tr>\n",
       "      <th>2</th>\n",
       "      <td>Стажировка</td>\n",
       "      <td>4</td>\n",
       "    </tr>\n",
       "    <tr>\n",
       "      <th>3</th>\n",
       "      <td>Проектная работа</td>\n",
       "      <td>2</td>\n",
       "    </tr>\n",
       "  </tbody>\n",
       "</table>\n",
       "</div>"
      ],
      "text/plain": [
       "        employmet_type  count\n",
       "0     Полная занятость    466\n",
       "1  Частичная занятость      8\n",
       "2           Стажировка      4\n",
       "3     Проектная работа      2"
      ]
     },
     "metadata": {},
     "output_type": "display_data"
    }
   ],
   "source": [
    "# Finding DS vacancies quantity by employment type\n",
    "query_7_4 = '''\n",
    "SELECT \n",
    "    v.employment AS employmet_type,\n",
    "    count(v.id)\n",
    "    \n",
    "FROM public.vacancies AS v\n",
    "WHERE \n",
    "    (v.name ILIKE '%data scientist%' OR \n",
    "     v.name ILIKE '%data science%' OR \n",
    "     v.name ILIKE '%исследователь данных%' OR \n",
    "     (v.name LIKE '%ML%' AND v.name NOT LIKE '%HTML%') OR \n",
    "     v.name ILIKE '%machine learning%' OR \n",
    "     v.name ILIKE '%машинн%обучен%')\n",
    "GROUP BY v.employment\n",
    "ORDER BY count(v.id) DESC\n",
    "'''\n",
    "df = pd.read_sql_query(query_7_4, connection)\n",
    "display(df)"
   ]
  },
  {
   "cell_type": "code",
   "execution_count": null,
   "metadata": {},
   "outputs": [
    {
     "data": {
      "text/html": [
       "<div>\n",
       "<style scoped>\n",
       "    .dataframe tbody tr th:only-of-type {\n",
       "        vertical-align: middle;\n",
       "    }\n",
       "\n",
       "    .dataframe tbody tr th {\n",
       "        vertical-align: top;\n",
       "    }\n",
       "\n",
       "    .dataframe thead th {\n",
       "        text-align: right;\n",
       "    }\n",
       "</style>\n",
       "<table border=\"1\" class=\"dataframe\">\n",
       "  <thead>\n",
       "    <tr style=\"text-align: right;\">\n",
       "      <th></th>\n",
       "      <th>experience</th>\n",
       "      <th>avg_salary_all</th>\n",
       "      <th>avg_salary_ds</th>\n",
       "      <th>difference%</th>\n",
       "    </tr>\n",
       "  </thead>\n",
       "  <tbody>\n",
       "    <tr>\n",
       "      <th>0</th>\n",
       "      <td>Нет опыта</td>\n",
       "      <td>40472.0</td>\n",
       "      <td>74643.0</td>\n",
       "      <td>84.0</td>\n",
       "    </tr>\n",
       "    <tr>\n",
       "      <th>1</th>\n",
       "      <td>От 1 года до 3 лет</td>\n",
       "      <td>76541.0</td>\n",
       "      <td>139675.0</td>\n",
       "      <td>82.0</td>\n",
       "    </tr>\n",
       "    <tr>\n",
       "      <th>2</th>\n",
       "      <td>От 3 до 6 лет</td>\n",
       "      <td>133211.0</td>\n",
       "      <td>243115.0</td>\n",
       "      <td>83.0</td>\n",
       "    </tr>\n",
       "  </tbody>\n",
       "</table>\n",
       "</div>"
      ],
      "text/plain": [
       "           experience  avg_salary_all  avg_salary_ds  difference%\n",
       "0           Нет опыта         40472.0        74643.0         84.0\n",
       "1  От 1 года до 3 лет         76541.0       139675.0         82.0\n",
       "2       От 3 до 6 лет        133211.0       243115.0         83.0"
      ]
     },
     "metadata": {},
     "output_type": "display_data"
    }
   ],
   "source": [
    "# Finding mean salry of all vacancies for compare with Data science vacancies\n",
    "query_7_5 = '''\n",
    "SELECT experience,\n",
    "       ROUND(AVG(CASE\n",
    "             WHEN salary_to IS NOT NULL AND salary_from IS NOT NULL THEN (salary_to + salary_from)/2\n",
    "             WHEN salary_to IS NULL THEN salary_from\n",
    "             ELSE salary_to\n",
    "           END)) as avg_salary\n",
    "FROM public.vacancies\n",
    "WHERE \n",
    "  (salary_from IS NOT NULL OR salary_to IS NOT NULL)\n",
    "GROUP BY experience\n",
    "ORDER BY experience\n",
    "OFFSET 1\n",
    "'''\n",
    "mean_salary_df = pd.read_sql_query(query_7_5, connection)\n",
    "salary_merged_df = pd.merge(left=mean_salary_df, right=ds_mean_salary_df, on='experience', suffixes=('_all', '_ds'))\n",
    "salary_merged_df['difference%'] = round((salary_merged_df['avg_salary_ds']/salary_merged_df['avg_salary_all'] * 100) - 100)\n",
    "display(salary_merged_df)\n"
   ]
  },
  {
   "cell_type": "code",
   "execution_count": null,
   "metadata": {},
   "outputs": [
    {
     "name": "stdout",
     "output_type": "stream",
     "text": [
      "Процент от общего количества вакансий связанных с данными: 3.6\n",
      "Процент от общего количества DataScience вакансий: 1.0\n",
      "В среднем зарплата дата-сайентистов выше рыночной на: 83.0\n"
     ]
    }
   ],
   "source": [
    "# Counting percents for conclusions\n",
    "print(f'Процент от общего количества вакансий связанных с данными: {round(data_vacancies/total_vacancies * 100,1)}')\n",
    "print(f'Процент от общего количества DataScience вакансий: {round(ds_vac_quantity/total_vacancies * 100,1)}')\n",
    "mean_salary_diff = salary_merged_df['difference%'].mean()\n",
    "print(f'В среднем зарплата дата-сайентистов выше рыночной на: {mean_salary_diff}')"
   ]
  },
  {
   "cell_type": "code",
   "execution_count": null,
   "metadata": {},
   "outputs": [],
   "source": [
    "connection.close()"
   ]
  },
  {
   "attachments": {},
   "cell_type": "markdown",
   "metadata": {},
   "source": [
    "В результате анализа данных от компании Head Hunter можно сделать следующие выводы:\n",
    "+ В базе данных содержится информация о 49197 вакансиях от 23501 работодателей, размещенных в 1362 регионах и принадлежащих к 294 сферам деятельности\n",
    "+ Больше всего вакансий размещено в Москве и Санкт-Петербурге\n",
    "+ Большинство вакансия требуют от 1 года до 3х лет опыта работы\n",
    "+ Средняя нижняя граница зарплаты составляет 71065 рублей, а верхняя граница - 110537 рублей\n",
    "+ Больше всего вакансий с графиком - Полный рабочий день(36424), на втором месте по количеству вакансий оказалась удаленная работа (9311 вакансий).\n",
    "+ Большинство вакансий требуют опыта работы от 1 года до 3 лет (26152 вакансии), за ним идут вакансии требующие от 3 до 6 лет опыта (14511 вакансий), Более 6 лет (1337 вакансий) и Нет опыта (7197 вакансий)\n",
    "+ Топ-5 работодателей по количеству вакансий: Яндекс (1933), Ростелеком (491), Тинькофф (444), СБЕР (428) и Газпром нефть (331)\n",
    "+ Топ 5 количества регионов, в которых каждая компания ищет сотрудников: Яндекс (181), Ростелеком (152), Тинькофф (43), СБЕР (24) и Газпром нефть (24).\n",
    "+ Количество работодателей, у которых не указана сфера деятельности: 8419.\n",
    "+ Количество компаний, занимающихся разработкой программного обеспечения: 3553.\n",
    "+ Компания Яндекс разместила 485 вакансий в городах миллионниках, больше всего в Москве(54), Санкт-Петербурге(42) и Екатеринбурге\n",
    "+ Из 49197 вакансий базы данных Head Hunter 1771 имеют отношение к данным что составляет 3.6 процента из них 51 вакансия подходит для начинающего дата-сайентиста\n",
    "+ Количество дата-сайнс вакансий - 480 что состовляет 1 процент от общего количества\n",
    "+ Большинство вакансий для дата - сайентистов подразумевают полный рабочий день, \n",
    "+ Топ 5 работадателй по количеству вакансий для дата-сайентистов СБЕР(37), Bell Integrator(25), Банк ВТБ (ПАО)(18), VK (15), Positive Technologies (11)\n",
    "+ Больше всего вакансий для дата-сайентистов представленно в следующих сферах:\n",
    "    1. Разработка программного обеспечения - 148 вакансий\n",
    "    2. Системная интеграция, автоматизации технологических и бизнес-процессов предприятия, ИТ-консалтинг - 139 вакансий\n",
    "    3. Банк - 92 вакансии\n",
    "    4. Интернет-компания (поисковики, платежные системы, соц.сети, информационно-познавательные и развлекательные ресурсы, продвижение сайтов и прочее) - 79 вакансий\n",
    "    5. Мобильная связь\n",
    "+ В среднем зарплата дата-сайентистов выше средней по рынку для аналогичного опыта работы на 83%"
   ]
  }
 ],
 "metadata": {
  "kernelspec": {
   "display_name": "Python 3 (ipykernel)",
   "language": "python",
   "name": "python3"
  },
  "language_info": {
   "codemirror_mode": {
    "name": "ipython",
    "version": 3
   },
   "file_extension": ".py",
   "mimetype": "text/x-python",
   "name": "python",
   "nbconvert_exporter": "python",
   "pygments_lexer": "ipython3",
   "version": "3.10.6"
  }
 },
 "nbformat": 4,
 "nbformat_minor": 2
}
